{
 "cells": [
  {
   "cell_type": "code",
   "execution_count": 1,
   "id": "4fe2b91a",
   "metadata": {},
   "outputs": [],
   "source": [
    "import sqlalchemy\n",
    "from sqlalchemy import create_engine\n",
    "import pandas as pd"
   ]
  },
  {
   "cell_type": "code",
   "execution_count": null,
   "id": "f6dea597",
   "metadata": {},
   "outputs": [],
   "source": [
    "db_user = \"root\"\n",
    "db_password = \"Heggi_2002\"\n",
    "db_host = \"localhost\"\n",
    "db_port = \"3306\"\n",
    "db_name = \"Wazzafni\"\n",
    "\n",
    "engine_str = f\"mysql+pymysql://{db_user}:{db_password}@{db_host}:{db_port}/{db_name}\"\n",
    "engine = create_engine(engine_str)\n",
    "\n",
    "Names = [\"Users\", \"Organizations\", \"Organizations_Sector\", \"Skill\", \"Category\", \"Job_Post\", \"Job_Type\", \"Apply\", \"Acquire\", \"Requires\", \"Under\"]\n",
    "CSV = [\"Users.csv\", \"Organizations.csv\", \"Organizations_Sector.csv\", \"Skill.csv\", \"Category.csv\", \"Job_Post.csv\", \"Job_Type.csv\", \"Apply.csv\", \"Acquire.csv\", \"Requires.csv\", \"Under.csv\"]\n",
    "for i in range(len(CSV)):\n",
    "    df = pd.read_csv(f\"{CSV[i]}\", encoding=\"utf-8\")\n",
    "    df = df.where(pd.notna(df), None)\n",
    "    df.to_sql(Names[i], con=engine, if_exists='replace', index=False, method='multi', chunksize=1000)\n",
    "\n",
    "engine.dispose()"
   ]
  }
 ],
 "metadata": {
  "kernelspec": {
   "display_name": "Python 3",
   "language": "python",
   "name": "python3"
  },
  "language_info": {
   "codemirror_mode": {
    "name": "ipython",
    "version": 3
   },
   "file_extension": ".py",
   "mimetype": "text/x-python",
   "name": "python",
   "nbconvert_exporter": "python",
   "pygments_lexer": "ipython3",
   "version": "3.12.0"
  }
 },
 "nbformat": 4,
 "nbformat_minor": 5
}
